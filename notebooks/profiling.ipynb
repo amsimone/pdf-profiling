{
 "cells": [
  {
   "cell_type": "markdown",
   "id": "14bc51e7-1c9f-4db0-8e6b-92b82f4bcbcb",
   "metadata": {},
   "source": [
    "Notebook to describe ...\n"
   ]
  },
  {
   "cell_type": "code",
   "execution_count": null,
   "id": "1d8dfd63-e00f-4289-85b2-1e90fff417a9",
   "metadata": {},
   "outputs": [],
   "source": []
  },
  {
   "cell_type": "markdown",
   "id": "e42e0c21-57ec-4584-9f63-eeabeb285cce",
   "metadata": {},
   "source": []
  },
  {
   "cell_type": "code",
   "execution_count": 1,
   "id": "ae4a235a-2bfa-4741-977c-6a92189d9e2b",
   "metadata": {},
   "outputs": [],
   "source": [
    "## Consider two measurements of the PDFs, f1 and f2  with their associated uncertainties\n",
    "data_x = [1,2]\n",
    "data_y = [100, 200]\n",
    "data_yerr = [10, 50]"
   ]
  },
  {
   "cell_type": "code",
   "execution_count": 2,
   "id": "207b956c-c7f0-4e19-baf0-cb59d443d563",
   "metadata": {},
   "outputs": [],
   "source": [
    "## Combine the two measurements and obtain averaged results with desired tolerance"
   ]
  },
  {
   "cell_type": "code",
   "execution_count": 3,
   "id": "a44b3416-fbc8-477e-b76a-f2904a15566e",
   "metadata": {},
   "outputs": [],
   "source": [
    "## Define a new measurement of the PDF f3 and m2, which depends on f and on a parameter p\n",
    "data_x = [1,2,3]\n",
    "data_y = [100, 200, 150]\n",
    "data_yerr = [10, 50, 20]\n",
    "\n",
    "meas_x = [4]\n"
   ]
  },
  {
   "cell_type": "code",
   "execution_count": 4,
   "id": "b2b01747-c327-4d72-8280-40249c74b5b4",
   "metadata": {},
   "outputs": [
    {
     "name": "stdout",
     "output_type": "stream",
     "text": [
      "iminuit version: 2.24.0\n"
     ]
    }
   ],
   "source": [
    "import numpy as np\n",
    "import scipy.stats as stats\n",
    "from scipy.stats import truncexpon\n",
    "from scipy.stats import truncnorm\n",
    "import iminuit\n",
    "from iminuit import Minuit\n",
    "import matplotlib.pyplot as plt\n",
    "plt.rcParams[\"font.size\"] = 14\n",
    "print(f\"iminuit version: {iminuit.__version__}\")      #  should be v 2.x"
   ]
  },
  {
   "cell_type": "code",
   "execution_count": 11,
   "id": "f3e826c0-f428-468e-86ff-b7858110b439",
   "metadata": {},
   "outputs": [],
   "source": [
    "\n",
    "# Set input values\n",
    "mu = 10.                                  # initial value for fit\n",
    "y = np.array([17., 19., 15., 3.])         # measured values\n",
    "s = np.array([1.5, 1.5, 1.5, 1.5])        # estimates of std. dev\n",
    "v = s**2                                  # estimates of variances\n",
    "r = np.array([0.2, 0.2, 0.2, 0.2])        # relative errors on errors\n",
    "r = np.array([0., 0., 0., 0.])        # relative errors on errors\n",
    "x = np.array([1., 2., 3., 4.])            # arbitrary x coord. for measurements\n"
   ]
  },
  {
   "cell_type": "code",
   "execution_count": 12,
   "id": "398e6ebc-764a-4659-a8be-5b181cf67a1d",
   "metadata": {},
   "outputs": [],
   "source": [
    "# Define function to be minimized\n",
    "class NegLogL:\n",
    "\n",
    "    def __init__(self, y, s, r):\n",
    "        self.setData(y, s, r)\n",
    "        \n",
    "    def setData(self, y, s, r):\n",
    "        self.data = y, s, r\n",
    "\n",
    "    def __call__(self, mu):\n",
    "        y, s, r = self.data\n",
    "        v = s ** 2\n",
    "        lnf = -0.5*(1. + 1./(2.*r**2))*np.log(1. + 2.*(r*(y-mu))**2/v)\n",
    "        return -np.sum(lnf)"
   ]
  },
  {
   "cell_type": "code",
   "execution_count": 13,
   "id": "34fbdb03-04e4-406a-a736-877dc3686818",
   "metadata": {},
   "outputs": [],
   "source": [
    "# Initialize Minuit and set up fit:\n",
    "negLogL = NegLogL(y, s, r)          # instantiate function to be minimized\n",
    "parin     = np.array([mu])          # initial values\n",
    "parname = ['mu']\n",
    "parstep = np.array([0.5])           # initial setp sizes\n",
    "parfix  = [False]                   # change these to fix/free parameters\n",
    "parlim  = [(None, None)]\n",
    "m = Minuit(negLogL, parin, name=parname)\n",
    "m.errors = parstep\n",
    "m.fixed = parfix\n",
    "m.limits = parlim\n",
    "m.errordef = 0.5                           # errors from lnL = lnLmax - 0.5"
   ]
  },
  {
   "cell_type": "code",
   "execution_count": 14,
   "id": "b701b575-3397-46dc-a4a3-c2e63cb73091",
   "metadata": {},
   "outputs": [
    {
     "name": "stderr",
     "output_type": "stream",
     "text": [
      "/var/folders/j3/fbvy92b96rscg29550s58fc00000gn/T/ipykernel_18892/61333912.py:13: RuntimeWarning: divide by zero encountered in divide\n",
      "  lnf = -0.5*(1. + 1./(2.*r**2))*np.log(1. + 2.*(r*(y-mu))**2/v)\n",
      "/var/folders/j3/fbvy92b96rscg29550s58fc00000gn/T/ipykernel_18892/61333912.py:13: RuntimeWarning: invalid value encountered in multiply\n",
      "  lnf = -0.5*(1. + 1./(2.*r**2))*np.log(1. + 2.*(r*(y-mu))**2/v)\n"
     ]
    },
    {
     "ename": "AttributeError",
     "evalue": "'NoneType' object has no attribute 'correlation'",
     "output_type": "error",
     "traceback": [
      "\u001b[0;31m---------------------------------------------------------------------------\u001b[0m",
      "\u001b[0;31mAttributeError\u001b[0m                            Traceback (most recent call last)",
      "Cell \u001b[0;32mIn[14], line 6\u001b[0m\n\u001b[1;32m      4\u001b[0m sigmaMLE \u001b[38;5;241m=\u001b[39m m\u001b[38;5;241m.\u001b[39merrors                               \u001b[38;5;66;03m# standard deviations\u001b[39;00m\n\u001b[1;32m      5\u001b[0m cov \u001b[38;5;241m=\u001b[39m m\u001b[38;5;241m.\u001b[39mcovariance                                \u001b[38;5;66;03m# covariance matrix\u001b[39;00m\n\u001b[0;32m----> 6\u001b[0m rho \u001b[38;5;241m=\u001b[39m \u001b[43mm\u001b[49m\u001b[38;5;241;43m.\u001b[39;49m\u001b[43mcovariance\u001b[49m\u001b[38;5;241;43m.\u001b[39;49m\u001b[43mcorrelation\u001b[49m()                  \u001b[38;5;66;03m# correlation coeffs.\u001b[39;00m\n\u001b[1;32m      7\u001b[0m muHat \u001b[38;5;241m=\u001b[39m MLE[\u001b[38;5;241m0\u001b[39m]\n\u001b[1;32m      8\u001b[0m sigma_muHat \u001b[38;5;241m=\u001b[39m sigmaMLE[\u001b[38;5;241m0\u001b[39m]\n",
      "\u001b[0;31mAttributeError\u001b[0m: 'NoneType' object has no attribute 'correlation'"
     ]
    }
   ],
   "source": [
    "# do the fit, extract results\n",
    "m.migrad()                                        # minimize -logL\n",
    "MLE = m.values                                    # max-likelihood estimates\n",
    "sigmaMLE = m.errors                               # standard deviations\n",
    "cov = m.covariance                                # covariance matrix\n",
    "rho = m.covariance.correlation()                  # correlation coeffs.\n",
    "muHat = MLE[0]\n",
    "sigma_muHat = sigmaMLE[0]\n",
    "\n",
    "print(r\"par index, name, estimate, standard deviation:\")\n",
    "for i in range(m.npar):\n",
    "    if not m.fixed[i]:\n",
    "        print(\"{:4d}\".format(i), \"{:<10s}\".format(m.parameters[i]), \" = \",\n",
    "         \"{:.6f}\".format(MLE[i]), \" +/- \", \"{:.6f}\".format(sigmaMLE[i]))"
   ]
  },
  {
   "cell_type": "code",
   "execution_count": null,
   "id": "c47a301b-4feb-41d3-818f-678352c5f105",
   "metadata": {},
   "outputs": [],
   "source": [
    "         \n",
    "# Make scan of -lnL\n",
    "if not m.fixed[\"mu\"]:\n",
    "    plt.figure()\n",
    "    m.draw_mnprofile('mu', band=False, bound=(muHat-3.*sigma_muHat, muHat+3.*sigma_muHat), size=200)\n",
    "    plt.show()"
   ]
  },
  {
   "cell_type": "code",
   "execution_count": 15,
   "id": "f15f8bfe-4393-4e8b-a014-f0b5db6138af",
   "metadata": {},
   "outputs": [
    {
     "data": {
      "image/png": "[encoded data removed]",
      "text/plain": [
       "<Figure size 640x480 with 1 Axes>"
      ]
     },
     "metadata": {},
     "output_type": "display_data"
    }
   ],
   "source": [
    "# Plot fit\n",
    "fig, ax = plt.subplots(1,1)\n",
    "plt.errorbar(x, y, yerr=s, xerr=0, color='black', fmt='o', label='measured data')\n",
    "plt.xlabel(r'measurement number')\n",
    "plt.ylabel(r'$y$', labelpad=5)\n",
    "xMin = 1.e-4\n",
    "xMax = 5. - 1.e-4\n",
    "yMin = 0.\n",
    "yMax = 26.\n",
    "plt.xlim(xMin, xMax)\n",
    "plt.ylim(yMin, yMax)\n",
    "xPlot = np.array([xMin, xMax])\n",
    "fit = np.array([muHat, muHat])\n",
    "plotLabel = r'$\\hat{\\mu} = ' + '{:.2f}'.format(muHat) + '\\pm' + '{:.2f}'.format(sigma_muHat) + '$'\n",
    "plt.plot(xPlot, fit, 'orange', linewidth=2, label=plotLabel)\n",
    "fitUp = np.array([muHat+sigma_muHat, muHat+sigma_muHat])\n",
    "fitLo = np.array([muHat-sigma_muHat, muHat-sigma_muHat])\n",
    "plt.fill_between(xPlot, fitLo, fitUp, color='dodgerblue', alpha=0.2)\n",
    "plt.subplots_adjust(left=0.15, right=0.9, top=0.9, bottom=0.15)\n",
    "handles, labels = ax.get_legend_handles_labels()  # Tweak legend\n",
    "handles = [handles[1], handles[0]]\n",
    "labels = [labels[1], labels[0]]\n",
    "handles = [handles[0][0], handles[1]]    # turn off error bar for data in legend\n",
    "plt.legend(handles, labels, loc='lower left', fontsize=14, frameon=False)\n",
    "plt.show()"
   ]
  },
  {
   "cell_type": "code",
   "execution_count": null,
   "id": "f067087e-1887-4f7d-8a2c-54e56858cad5",
   "metadata": {},
   "outputs": [],
   "source": []
  },
  {
   "cell_type": "code",
   "execution_count": null,
   "id": "aad8b25c-0d8b-42e4-b4d5-f58ccae21618",
   "metadata": {},
   "outputs": [],
   "source": []
  }
 ],
 "metadata": {
  "kernelspec": {
   "display_name": "Python 3 (ipykernel)",
   "language": "python",
   "name": "python3"
  },
  "language_info": {
   "codemirror_mode": {
    "name": "ipython",
    "version": 3
   },
   "file_extension": ".py",
   "mimetype": "text/x-python",
   "name": "python",
   "nbconvert_exporter": "python",
   "pygments_lexer": "ipython3",
   "version": "3.11.7"
  }
 },
 "nbformat": 4,
 "nbformat_minor": 5
}
